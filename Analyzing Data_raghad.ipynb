{
 "cells": [
  {
   "cell_type": "markdown",
   "metadata": {},
   "source": [
    "# Import software libraries"
   ]
  },
  {
   "cell_type": "code",
   "execution_count": null,
   "metadata": {},
   "outputs": [],
   "source": [
    "import sys                                                  # Read system parameters.\n",
    "import numpy as np                                          # Work with multi-dimensional arrays.\n",
    "import pandas as pd                                         # Manipulate and analyze data.\n",
    "import scipy as sp                                          # Apply advanced mathematical functions.\n",
    "from scipy import stats\n",
    "import matplotlib                                           # Create and format charts.\n",
    "import matplotlib.pyplot as plt  \n",
    "import seaborn as sns                                       # Make charting easier.\n",
    "import sklearn                                              # Train and evaluate machine learning models.\n",
    "from sklearn.preprocessing import StandardScaler\n",
    "from sklearn.decomposition import PCA\n",
    "import category_encoders as ce                              # Encode data.\n",
    "import warnings                                             # Suppress warnings.\n",
    "warnings.filterwarnings('ignore')\n",
    "\n",
    "# Summarize software libraries used.\n",
    "print('Libraries used in this project:')\n",
    "print('- Python {}'.format(sys.version))\n",
    "print('- NumPy {}'.format(np.__version__))\n",
    "print('- pandas {}'.format(pd.__version__))\n",
    "print('- SciPy {}'.format(sp.__version__))\n",
    "print('- Matplotlib {}'.format(matplotlib.__version__))\n",
    "print('- Seaborn {}'.format(sns.__version__))\n",
    "print('- scikit-learn {}'.format(sklearn.__version__))\n",
    "print('- Category Encoders {}'.format(ce.__version__))"
   ]
  },
  {
   "cell_type": "markdown",
   "metadata": {
    "id": "JM3Jux22jhI8"
   },
   "source": [
    "# Load and preview the data"
   ]
  },
  {
   "cell_type": "code",
   "execution_count": null,
   "metadata": {
    "executionInfo": {
     "elapsed": 561,
     "status": "ok",
     "timestamp": 1614989751988,
     "user": {
      "displayName": "Sarah Haq",
      "photoUrl": "https://lh3.googleusercontent.com/a-/AOh14Gh7vs3P5_F3LYi7bEV8r1vbltDxEgpoYXmxHgxGBw=s64",
      "userId": "16294508270436203551"
     },
     "user_tz": -60
    },
    "id": "rN_93cyclYSb"
   },
   "outputs": [],
   "source": [
    "users_data = pd.read_pickle('/home/jovyan/work/Analysis/data/users_data_cleaned.pickle')\n",
    "\n",
    "users_data.head(n = 5)"
   ]
  },
  {
   "cell_type": "markdown",
   "metadata": {
    "id": "gPTDqhYMLqwg"
   },
   "source": [
    "# Check the shape of the data"
   ]
  },
  {
   "cell_type": "code",
   "execution_count": null,
   "metadata": {
    "colab": {
     "base_uri": "https://localhost:8080/"
    },
    "executionInfo": {
     "elapsed": 556,
     "status": "ok",
     "timestamp": 1614989753270,
     "user": {
      "displayName": "Sarah Haq",
      "photoUrl": "https://lh3.googleusercontent.com/a-/AOh14Gh7vs3P5_F3LYi7bEV8r1vbltDxEgpoYXmxHgxGBw=s64",
      "userId": "16294508270436203551"
     },
     "user_tz": -60
    },
    "id": "kaA2VK-0mFPS",
    "outputId": "6688e3fa-3bec-47b6-f9d8-5241f919b3c7"
   },
   "outputs": [],
   "source": [
    "users_data.shape"
   ]
  },
  {
   "cell_type": "markdown",
   "metadata": {
    "id": "H8gVuWuXLspb"
   },
   "source": [
    "# Check the number of unique users"
   ]
  },
  {
   "cell_type": "code",
   "execution_count": null,
   "metadata": {
    "colab": {
     "base_uri": "https://localhost:8080/"
    },
    "executionInfo": {
     "elapsed": 691,
     "status": "ok",
     "timestamp": 1614989753904,
     "user": {
      "displayName": "Sarah Haq",
      "photoUrl": "https://lh3.googleusercontent.com/a-/AOh14Gh7vs3P5_F3LYi7bEV8r1vbltDxEgpoYXmxHgxGBw=s64",
      "userId": "16294508270436203551"
     },
     "user_tz": -60
    },
    "id": "3jOBdaw1mUo2",
    "outputId": "6f73abcf-d4e5-4c9b-bb6a-221d1576e3c6"
   },
   "outputs": [],
   "source": [
    "len(np.unique(users_data.user_id))"
   ]
  },
  {
   "cell_type": "markdown",
   "metadata": {
    "id": "HmhJ2eamLu2C"
   },
   "source": [
    "# Check the data types"
   ]
  },
  {
   "cell_type": "code",
   "execution_count": null,
   "metadata": {
    "colab": {
     "base_uri": "https://localhost:8080/"
    },
    "executionInfo": {
     "elapsed": 727,
     "status": "ok",
     "timestamp": 1614989754520,
     "user": {
      "displayName": "Sarah Haq",
      "photoUrl": "https://lh3.googleusercontent.com/a-/AOh14Gh7vs3P5_F3LYi7bEV8r1vbltDxEgpoYXmxHgxGBw=s64",
      "userId": "16294508270436203551"
     },
     "user_tz": -60
    },
    "id": "s2Hn2cCqmHHC",
    "outputId": "8e47a667-0496-43c9-8142-e8504198a10d"
   },
   "outputs": [],
   "source": [
    "users_data.info()"
   ]
  },
  {
   "cell_type": "code",
   "execution_count": null,
   "metadata": {
    "colab": {
     "base_uri": "https://localhost:8080/"
    },
    "executionInfo": {
     "elapsed": 466,
     "status": "ok",
     "timestamp": 1614989754520,
     "user": {
      "displayName": "Sarah Haq",
      "photoUrl": "https://lh3.googleusercontent.com/a-/AOh14Gh7vs3P5_F3LYi7bEV8r1vbltDxEgpoYXmxHgxGBw=s64",
      "userId": "16294508270436203551"
     },
     "user_tz": -60
    },
    "id": "TycVD4ReTCQu",
    "outputId": "33ea32c7-692f-401c-b3ad-d8da574da39c"
   },
   "outputs": [],
   "source": [
    "users_data.columns.to_series().groupby(users_data.dtypes).groups"
   ]
  },
  {
   "cell_type": "markdown",
   "metadata": {},
   "source": [
    "# Check for correlations"
   ]
  },
  {
   "cell_type": "code",
   "execution_count": null,
   "metadata": {},
   "outputs": [],
   "source": [
    "users_data.corr().abs()"
   ]
  },
  {
   "cell_type": "markdown",
   "metadata": {
    "id": "9jFF98MZLxcs"
   },
   "source": [
    "# Generate summary statistics for all of the data"
   ]
  },
  {
   "cell_type": "code",
   "execution_count": null,
   "metadata": {
    "colab": {
     "base_uri": "https://localhost:8080/",
     "height": 529
    },
    "executionInfo": {
     "elapsed": 577,
     "status": "ok",
     "timestamp": 1614989756428,
     "user": {
      "displayName": "Sarah Haq",
      "photoUrl": "https://lh3.googleusercontent.com/a-/AOh14Gh7vs3P5_F3LYi7bEV8r1vbltDxEgpoYXmxHgxGBw=s64",
      "userId": "16294508270436203551"
     },
     "user_tz": -60
    },
    "id": "nmiXy4pnn5C5",
    "outputId": "2927dfc2-7076-4515-b286-3062cba71184"
   },
   "outputs": [],
   "source": [
    "users_data.describe(datetime_is_numeric = True, include = 'all')"
   ]
  },
  {
   "cell_type": "markdown",
   "metadata": {
    "id": "-tTQJOqZL2eC"
   },
   "source": [
    "# Generate summary statistics for numerical data only"
   ]
  },
  {
   "cell_type": "code",
   "execution_count": null,
   "metadata": {
    "colab": {
     "base_uri": "https://localhost:8080/",
     "height": 297
    },
    "executionInfo": {
     "elapsed": 548,
     "status": "ok",
     "timestamp": 1614989758107,
     "user": {
      "displayName": "Sarah Haq",
      "photoUrl": "https://lh3.googleusercontent.com/a-/AOh14Gh7vs3P5_F3LYi7bEV8r1vbltDxEgpoYXmxHgxGBw=s64",
      "userId": "16294508270436203551"
     },
     "user_tz": -60
    },
    "id": "n1k9ccNKpLSz",
    "outputId": "bad3607f-fbf5-4825-aeea-69d1f98c6e66"
   },
   "outputs": [],
   "source": [
    "users_data.describe()"
   ]
  },
  {
   "cell_type": "markdown",
   "metadata": {
    "id": "m5RObXuiIO8Y"
   },
   "source": [
    "# Generate modal values for all data"
   ]
  },
  {
   "cell_type": "code",
   "execution_count": null,
   "metadata": {
    "colab": {
     "base_uri": "https://localhost:8080/",
     "height": 148
    },
    "executionInfo": {
     "elapsed": 395,
     "status": "ok",
     "timestamp": 1614989759073,
     "user": {
      "displayName": "Sarah Haq",
      "photoUrl": "https://lh3.googleusercontent.com/a-/AOh14Gh7vs3P5_F3LYi7bEV8r1vbltDxEgpoYXmxHgxGBw=s64",
      "userId": "16294508270436203551"
     },
     "user_tz": -60
    },
    "id": "VzkCiNx5Wg3C",
    "outputId": "38c242eb-69f7-4d7e-d52c-164814c411b4"
   },
   "outputs": [],
   "source": [
    "# Drop user ID since it's unique.\n",
    "\n",
    "users_data.drop(['user_id'], axis = 1).mode()"
   ]
  },
  {
   "cell_type": "markdown",
   "metadata": {},
   "source": [
    "# Generate skewness and kurtosis measurements"
   ]
  },
  {
   "cell_type": "code",
   "execution_count": null,
   "metadata": {},
   "outputs": [],
   "source": [
    "users_data.skew()"
   ]
  },
  {
   "cell_type": "code",
   "execution_count": null,
   "metadata": {},
   "outputs": [],
   "source": [
    "users_data.kurt()"
   ]
  },
  {
   "cell_type": "markdown",
   "metadata": {
    "id": "00d-J3c3L7Vv"
   },
   "source": [
    "# Plot histograms for all numerical columns"
   ]
  },
  {
   "cell_type": "code",
   "execution_count": null,
   "metadata": {
    "executionInfo": {
     "elapsed": 595,
     "status": "ok",
     "timestamp": 1614989762591,
     "user": {
      "displayName": "Sarah Haq",
      "photoUrl": "https://lh3.googleusercontent.com/a-/AOh14Gh7vs3P5_F3LYi7bEV8r1vbltDxEgpoYXmxHgxGBw=s64",
      "userId": "16294508270436203551"
     },
     "user_tz": -60
    },
    "id": "81kXqXk7KfDS"
   },
   "outputs": [],
   "source": [
    "users_data_for_hist = \\\n",
    "users_data.select_dtypes(exclude = ['bool'])"
   ]
  },
  {
   "cell_type": "code",
   "execution_count": null,
   "metadata": {
    "colab": {
     "base_uri": "https://localhost:8080/",
     "height": 607
    },
    "executionInfo": {
     "elapsed": 2001,
     "status": "ok",
     "timestamp": 1614989764588,
     "user": {
      "displayName": "Sarah Haq",
      "photoUrl": "https://lh3.googleusercontent.com/a-/AOh14Gh7vs3P5_F3LYi7bEV8r1vbltDxEgpoYXmxHgxGBw=s64",
      "userId": "16294508270436203551"
     },
     "user_tz": -60
    },
    "id": "J8hhGYqwp37U",
    "outputId": "d2933e87-9a0d-457e-f246-fa5ca4852fc3"
   },
   "outputs": [],
   "source": [
    "users_data_for_hist.hist(figsize = (20, 10), alpha = 0.5,\n",
    "                         edgecolor = 'black', grid = False);"
   ]
  },
  {
   "cell_type": "markdown",
   "metadata": {
    "id": "A4xo00WNSrnd"
   },
   "source": [
    "# Generate a box plot for `age`"
   ]
  },
  {
   "cell_type": "code",
   "execution_count": null,
   "metadata": {
    "colab": {
     "base_uri": "https://localhost:8080/"
    },
    "executionInfo": {
     "elapsed": 587,
     "status": "ok",
     "timestamp": 1614989766584,
     "user": {
      "displayName": "Sarah Haq",
      "photoUrl": "https://lh3.googleusercontent.com/a-/AOh14Gh7vs3P5_F3LYi7bEV8r1vbltDxEgpoYXmxHgxGBw=s64",
      "userId": "16294508270436203551"
     },
     "user_tz": -60
    },
    "id": "lwMU_JpmSy0e",
    "outputId": "71d80538-e864-4350-9dab-35a2b12584ae"
   },
   "outputs": [],
   "source": [
    "users_data['age'].describe()"
   ]
  },
  {
   "cell_type": "code",
   "execution_count": null,
   "metadata": {
    "colab": {
     "base_uri": "https://localhost:8080/",
     "height": 171
    },
    "executionInfo": {
     "elapsed": 714,
     "status": "ok",
     "timestamp": 1614989767166,
     "user": {
      "displayName": "Sarah Haq",
      "photoUrl": "https://lh3.googleusercontent.com/a-/AOh14Gh7vs3P5_F3LYi7bEV8r1vbltDxEgpoYXmxHgxGBw=s64",
      "userId": "16294508270436203551"
     },
     "user_tz": -60
    },
    "id": "YNUJZeIYwJE6",
    "outputId": "87bbcd25-faea-4abb-aba6-1046d59456dd"
   },
   "outputs": [],
   "source": [
    "plt.figure(figsize = (6, 2))\n",
    "sns.boxplot(x = users_data['age'], linewidth = 0.9);"
   ]
  },
  {
   "cell_type": "markdown",
   "metadata": {
    "id": "YO8MqxWxTXKf"
   },
   "source": [
    "# Generate a violin plot for `age`"
   ]
  },
  {
   "cell_type": "code",
   "execution_count": null,
   "metadata": {
    "colab": {
     "base_uri": "https://localhost:8080/",
     "height": 279
    },
    "executionInfo": {
     "elapsed": 771,
     "status": "ok",
     "timestamp": 1614989769587,
     "user": {
      "displayName": "Sarah Haq",
      "photoUrl": "https://lh3.googleusercontent.com/a-/AOh14Gh7vs3P5_F3LYi7bEV8r1vbltDxEgpoYXmxHgxGBw=s64",
      "userId": "16294508270436203551"
     },
     "user_tz": -60
    },
    "id": "zgfx9-NTwaLO",
    "outputId": "39fe12f0-3779-4a3c-ef0a-ae74e48b6113"
   },
   "outputs": [],
   "source": [
    "sns.violinplot(x = users_data['age'], linewidth = 0.9);"
   ]
  },
  {
   "cell_type": "markdown",
   "metadata": {
    "id": "9MQ65ougTcPd"
   },
   "source": [
    "# Generate a box plot for `number_transactions`"
   ]
  },
  {
   "cell_type": "code",
   "execution_count": null,
   "metadata": {
    "colab": {
     "base_uri": "https://localhost:8080/"
    },
    "executionInfo": {
     "elapsed": 519,
     "status": "ok",
     "timestamp": 1614989771367,
     "user": {
      "displayName": "Sarah Haq",
      "photoUrl": "https://lh3.googleusercontent.com/a-/AOh14Gh7vs3P5_F3LYi7bEV8r1vbltDxEgpoYXmxHgxGBw=s64",
      "userId": "16294508270436203551"
     },
     "user_tz": -60
    },
    "id": "yQJ9ym4eTnoZ",
    "outputId": "34d5d1a4-94a1-41b5-939b-1b4a09e245e7"
   },
   "outputs": [],
   "source": [
    "users_data['number_transactions'].describe()"
   ]
  },
  {
   "cell_type": "code",
   "execution_count": null,
   "metadata": {
    "colab": {
     "base_uri": "https://localhost:8080/",
     "height": 172
    },
    "executionInfo": {
     "elapsed": 569,
     "status": "ok",
     "timestamp": 1614989772370,
     "user": {
      "displayName": "Sarah Haq",
      "photoUrl": "https://lh3.googleusercontent.com/a-/AOh14Gh7vs3P5_F3LYi7bEV8r1vbltDxEgpoYXmxHgxGBw=s64",
      "userId": "16294508270436203551"
     },
     "user_tz": -60
    },
    "id": "Q8G39zcfTuT-",
    "outputId": "9c55b6bf-ddee-415a-f669-8aa545997101"
   },
   "outputs": [],
   "source": [
    "plt.figure(figsize = (6, 2))\n",
    "sns.boxplot(x = users_data['number_transactions'],\n",
    "            linewidth = 0.9);"
   ]
  },
  {
   "cell_type": "markdown",
   "metadata": {},
   "source": [
    "# Generate a violin plot for `number_transactions`"
   ]
  },
  {
   "cell_type": "code",
   "execution_count": null,
   "metadata": {
    "colab": {
     "base_uri": "https://localhost:8080/",
     "height": 280
    },
    "executionInfo": {
     "elapsed": 736,
     "status": "ok",
     "timestamp": 1614989774376,
     "user": {
      "displayName": "Sarah Haq",
      "photoUrl": "https://lh3.googleusercontent.com/a-/AOh14Gh7vs3P5_F3LYi7bEV8r1vbltDxEgpoYXmxHgxGBw=s64",
      "userId": "16294508270436203551"
     },
     "user_tz": -60
    },
    "id": "L_7ZdfYWTzvF",
    "outputId": "86df73d5-a3a9-4068-9e64-b7dba667c049"
   },
   "outputs": [],
   "source": [
    "sns.violinplot(x = users_data['number_transactions'],\n",
    "               linewidth=0.9);"
   ]
  },
  {
   "cell_type": "markdown",
   "metadata": {},
   "source": [
    "# Generate scatter plots comparing `total_amount_usd` to `number_transactions`"
   ]
  },
  {
   "cell_type": "code",
   "execution_count": null,
   "metadata": {
    "colab": {
     "base_uri": "https://localhost:8080/",
     "height": 280
    },
    "executionInfo": {
     "elapsed": 874,
     "status": "ok",
     "timestamp": 1614989777303,
     "user": {
      "displayName": "Sarah Haq",
      "photoUrl": "https://lh3.googleusercontent.com/a-/AOh14Gh7vs3P5_F3LYi7bEV8r1vbltDxEgpoYXmxHgxGBw=s64",
      "userId": "16294508270436203551"
     },
     "user_tz": -60
    },
    "id": "69LF98qNaZC0",
    "outputId": "9da22e22-b44e-4300-f1b6-7b95bd18ed50"
   },
   "outputs": [],
   "source": [
    "sns.scatterplot(data = users_data, x = 'total_amount_usd',\n",
    "                y = 'number_transactions');"
   ]
  },
  {
   "cell_type": "code",
   "execution_count": null,
   "metadata": {
    "colab": {
     "base_uri": "https://localhost:8080/",
     "height": 280
    },
    "executionInfo": {
     "elapsed": 2404,
     "status": "ok",
     "timestamp": 1614989780282,
     "user": {
      "displayName": "Sarah Haq",
      "photoUrl": "https://lh3.googleusercontent.com/a-/AOh14Gh7vs3P5_F3LYi7bEV8r1vbltDxEgpoYXmxHgxGBw=s64",
      "userId": "16294508270436203551"
     },
     "user_tz": -60
    },
    "id": "ULRp88yJuuOg",
    "outputId": "c0a13ce6-5b1a-4b98-be77-db6b6fd6a8af"
   },
   "outputs": [],
   "source": [
    "sns.scatterplot(data = users_data, x = 'total_amount_usd',\n",
    "                y = 'number_transactions', hue = 'education');"
   ]
  },
  {
   "cell_type": "markdown",
   "metadata": {},
   "source": [
    "# Generate a line plot for `total_amount_usd`"
   ]
  },
  {
   "cell_type": "code",
   "execution_count": null,
   "metadata": {},
   "outputs": [],
   "source": [
    "years = users_data['date_joined'].dt.year\n",
    "\n",
    "sns.lineplot(data = users_data, x = years,\n",
    "             y = 'total_amount_usd',\n",
    "             estimator = np.mean);"
   ]
  },
  {
   "cell_type": "markdown",
   "metadata": {
    "id": "ipDAVPnIMEOi"
   },
   "source": [
    "# Generate bar charts for `job`"
   ]
  },
  {
   "cell_type": "code",
   "execution_count": null,
   "metadata": {
    "colab": {
     "base_uri": "https://localhost:8080/"
    },
    "executionInfo": {
     "elapsed": 533,
     "status": "ok",
     "timestamp": 1614989783429,
     "user": {
      "displayName": "Sarah Haq",
      "photoUrl": "https://lh3.googleusercontent.com/a-/AOh14Gh7vs3P5_F3LYi7bEV8r1vbltDxEgpoYXmxHgxGBw=s64",
      "userId": "16294508270436203551"
     },
     "user_tz": -60
    },
    "id": "SdYrrsK0MZ2Y",
    "outputId": "19c5157c-09d0-430b-e05e-8138342647ef"
   },
   "outputs": [],
   "source": [
    "users_job_dist = \\\n",
    "users_data['job'].value_counts(dropna = False)\n",
    "\n",
    "users_job_dist"
   ]
  },
  {
   "cell_type": "code",
   "execution_count": null,
   "metadata": {
    "colab": {
     "base_uri": "https://localhost:8080/",
     "height": 342
    },
    "executionInfo": {
     "elapsed": 568,
     "status": "ok",
     "timestamp": 1614989784539,
     "user": {
      "displayName": "Sarah Haq",
      "photoUrl": "https://lh3.googleusercontent.com/a-/AOh14Gh7vs3P5_F3LYi7bEV8r1vbltDxEgpoYXmxHgxGBw=s64",
      "userId": "16294508270436203551"
     },
     "user_tz": -60
    },
    "id": "Z-qiLn5hOras",
    "outputId": "d7ed2f57-e5c8-4e11-f429-a5ff5ca29717"
   },
   "outputs": [],
   "source": [
    "# Vertical bar chart.\n",
    "\n",
    "users_job_dist.plot(kind = 'bar')\n",
    "plt.title('Distribution of Jobs');"
   ]
  },
  {
   "cell_type": "code",
   "execution_count": null,
   "metadata": {
    "colab": {
     "base_uri": "https://localhost:8080/",
     "height": 281
    },
    "executionInfo": {
     "elapsed": 601,
     "status": "ok",
     "timestamp": 1614989785860,
     "user": {
      "displayName": "Sarah Haq",
      "photoUrl": "https://lh3.googleusercontent.com/a-/AOh14Gh7vs3P5_F3LYi7bEV8r1vbltDxEgpoYXmxHgxGBw=s64",
      "userId": "16294508270436203551"
     },
     "user_tz": -60
    },
    "id": "_tCfBw8uPBft",
    "outputId": "a7dca75c-2399-4896-e15d-a9fde36245e7"
   },
   "outputs": [],
   "source": [
    "# Horizontal bar chart\n",
    "\n",
    "users_job_dist.plot(kind = 'barh')\n",
    "plt.title('Distribution of Jobs');"
   ]
  },
  {
   "cell_type": "code",
   "execution_count": null,
   "metadata": {
    "colab": {
     "base_uri": "https://localhost:8080/",
     "height": 326
    },
    "executionInfo": {
     "elapsed": 616,
     "status": "ok",
     "timestamp": 1614989788224,
     "user": {
      "displayName": "Sarah Haq",
      "photoUrl": "https://lh3.googleusercontent.com/a-/AOh14Gh7vs3P5_F3LYi7bEV8r1vbltDxEgpoYXmxHgxGBw=s64",
      "userId": "16294508270436203551"
     },
     "user_tz": -60
    },
    "id": "WweMLrneQrCZ",
    "outputId": "4cd1495e-7cca-498d-a70c-1e6911aca37a"
   },
   "outputs": [],
   "source": [
    "# Exclude missing values.\n",
    "\n",
    "users_data['job'].value_counts().plot(kind = 'bar');"
   ]
  },
  {
   "cell_type": "markdown",
   "metadata": {
    "id": "39FtYbpANyNV"
   },
   "source": [
    "# Generate a bar chart for `marital`"
   ]
  },
  {
   "cell_type": "code",
   "execution_count": null,
   "metadata": {
    "colab": {
     "base_uri": "https://localhost:8080/"
    },
    "executionInfo": {
     "elapsed": 542,
     "status": "ok",
     "timestamp": 1614989789915,
     "user": {
      "displayName": "Sarah Haq",
      "photoUrl": "https://lh3.googleusercontent.com/a-/AOh14Gh7vs3P5_F3LYi7bEV8r1vbltDxEgpoYXmxHgxGBw=s64",
      "userId": "16294508270436203551"
     },
     "user_tz": -60
    },
    "id": "zL7waX08NtGu",
    "outputId": "413e0c55-ab55-41e6-9c6a-60825de019c3"
   },
   "outputs": [],
   "source": [
    "users_marital_dist = \\\n",
    "users_data['marital'].value_counts(dropna = False)\n",
    "\n",
    "users_marital_dist"
   ]
  },
  {
   "cell_type": "code",
   "execution_count": null,
   "metadata": {
    "colab": {
     "base_uri": "https://localhost:8080/",
     "height": 314
    },
    "executionInfo": {
     "elapsed": 796,
     "status": "ok",
     "timestamp": 1614989791081,
     "user": {
      "displayName": "Sarah Haq",
      "photoUrl": "https://lh3.googleusercontent.com/a-/AOh14Gh7vs3P5_F3LYi7bEV8r1vbltDxEgpoYXmxHgxGBw=s64",
      "userId": "16294508270436203551"
     },
     "user_tz": -60
    },
    "id": "IxJxpIFBPp3V",
    "outputId": "1f435d74-49a1-4b5d-875e-b47dea171dc8"
   },
   "outputs": [],
   "source": [
    "users_marital_dist.plot(kind = 'bar')\n",
    "plt.title('Distribution of Marital Status');"
   ]
  },
  {
   "cell_type": "markdown",
   "metadata": {
    "id": "KUHbG4mpMbe9"
   },
   "source": [
    "# Generate a bar chart for `education`"
   ]
  },
  {
   "cell_type": "code",
   "execution_count": null,
   "metadata": {
    "colab": {
     "base_uri": "https://localhost:8080/"
    },
    "executionInfo": {
     "elapsed": 564,
     "status": "ok",
     "timestamp": 1614989792544,
     "user": {
      "displayName": "Sarah Haq",
      "photoUrl": "https://lh3.googleusercontent.com/a-/AOh14Gh7vs3P5_F3LYi7bEV8r1vbltDxEgpoYXmxHgxGBw=s64",
      "userId": "16294508270436203551"
     },
     "user_tz": -60
    },
    "id": "__eWRLpHN9SA",
    "outputId": "0b20f8e8-4faa-405c-9114-702a0c45b81a"
   },
   "outputs": [],
   "source": [
    "users_education_dist = \\\n",
    "users_data['education'].value_counts(dropna = False)\n",
    "\n",
    "users_education_dist"
   ]
  },
  {
   "cell_type": "code",
   "execution_count": null,
   "metadata": {
    "colab": {
     "base_uri": "https://localhost:8080/",
     "height": 323
    },
    "executionInfo": {
     "elapsed": 573,
     "status": "ok",
     "timestamp": 1614989793501,
     "user": {
      "displayName": "Sarah Haq",
      "photoUrl": "https://lh3.googleusercontent.com/a-/AOh14Gh7vs3P5_F3LYi7bEV8r1vbltDxEgpoYXmxHgxGBw=s64",
      "userId": "16294508270436203551"
     },
     "user_tz": -60
    },
    "id": "W9s0k0m7P468",
    "outputId": "c8fa63db-9d0d-4e15-82fb-2b9ce7d46870"
   },
   "outputs": [],
   "source": [
    "users_education_dist.plot(kind = 'bar')\n",
    "plt.title('Distribution of Education');"
   ]
  },
  {
   "cell_type": "markdown",
   "metadata": {
    "id": "4myvtcEQOAun"
   },
   "source": [
    "# Generate a bar chart for `contact`"
   ]
  },
  {
   "cell_type": "code",
   "execution_count": null,
   "metadata": {
    "executionInfo": {
     "elapsed": 534,
     "status": "ok",
     "timestamp": 1614989795712,
     "user": {
      "displayName": "Sarah Haq",
      "photoUrl": "https://lh3.googleusercontent.com/a-/AOh14Gh7vs3P5_F3LYi7bEV8r1vbltDxEgpoYXmxHgxGBw=s64",
      "userId": "16294508270436203551"
     },
     "user_tz": -60
    },
    "id": "d2Wc1VXJP-up"
   },
   "outputs": [],
   "source": [
    "users_contact_dist = \\\n",
    "users_data['contact'].value_counts(dropna = False)\n",
    "\n",
    "users_contact_dist.plot(kind = 'bar')\n",
    "plt.title('Distribution of Contact');"
   ]
  },
  {
   "cell_type": "markdown",
   "metadata": {
    "id": "4DoFCsjOMGvS"
   },
   "source": [
    "# Generate a bar chart for `poutcome`"
   ]
  },
  {
   "cell_type": "code",
   "execution_count": null,
   "metadata": {
    "colab": {
     "base_uri": "https://localhost:8080/"
    },
    "executionInfo": {
     "elapsed": 572,
     "status": "ok",
     "timestamp": 1614989798695,
     "user": {
      "displayName": "Sarah Haq",
      "photoUrl": "https://lh3.googleusercontent.com/a-/AOh14Gh7vs3P5_F3LYi7bEV8r1vbltDxEgpoYXmxHgxGBw=s64",
      "userId": "16294508270436203551"
     },
     "user_tz": -60
    },
    "id": "1ZmS7AxPPfTk",
    "outputId": "86c2f78e-9811-42b6-c22a-bf554972e8d7"
   },
   "outputs": [],
   "source": [
    "users_poutcome_dist = \\\n",
    "users_data['poutcome'].value_counts(dropna = False)\n",
    "\n",
    "users_poutcome_dist.plot(kind = 'bar')\n",
    "plt.title('Distribution of poutcome');"
   ]
  },
  {
   "cell_type": "markdown",
   "metadata": {},
   "source": [
    "# Generate a bar chart for `default`"
   ]
  },
  {
   "cell_type": "code",
   "execution_count": null,
   "metadata": {},
   "outputs": [],
   "source": [
    "users_device_dist = \\\n",
    "users_data['default'].value_counts(dropna = False)\n",
    "\n",
    "users_device_dist.plot(kind = 'bar')\n",
    "plt.title('Distribution of Loan Default');"
   ]
  },
  {
   "cell_type": "markdown",
   "metadata": {
    "id": "OHgpT0XNL_SW"
   },
   "source": [
    "# Generate a bar chart for `device`"
   ]
  },
  {
   "cell_type": "code",
   "execution_count": null,
   "metadata": {
    "colab": {
     "base_uri": "https://localhost:8080/"
    },
    "executionInfo": {
     "elapsed": 452,
     "status": "ok",
     "timestamp": 1614989799773,
     "user": {
      "displayName": "Sarah Haq",
      "photoUrl": "https://lh3.googleusercontent.com/a-/AOh14Gh7vs3P5_F3LYi7bEV8r1vbltDxEgpoYXmxHgxGBw=s64",
      "userId": "16294508270436203551"
     },
     "user_tz": -60
    },
    "id": "Q9Ov5VSisJ9i",
    "outputId": "f6b87748-d1bf-4a13-c67f-4db7a6ef78d8"
   },
   "outputs": [],
   "source": [
    "users_device_dist = \\\n",
    "users_data['device'].value_counts(dropna = False)"
   ]
  },
  {
   "cell_type": "code",
   "execution_count": null,
   "metadata": {
    "colab": {
     "base_uri": "https://localhost:8080/",
     "height": 324
    },
    "executionInfo": {
     "elapsed": 929,
     "status": "ok",
     "timestamp": 1614989800593,
     "user": {
      "displayName": "Sarah Haq",
      "photoUrl": "https://lh3.googleusercontent.com/a-/AOh14Gh7vs3P5_F3LYi7bEV8r1vbltDxEgpoYXmxHgxGBw=s64",
      "userId": "16294508270436203551"
     },
     "user_tz": -60
    },
    "id": "FSVEAif9rmHy",
    "outputId": "2765deac-7c6a-4e00-86c9-77956afc0a1b"
   },
   "outputs": [],
   "source": [
    "users_device_dist.plot(kind = 'bar',\n",
    "                       alpha = 0.5, edgecolor = 'black')\n",
    "plt.title('Distribution of the Devices',\n",
    "          size = 12, weight = 'bold')\n",
    "plt.xticks(rotation = 45, size = 11)\n",
    "plt.xlabel('Device Name', size = 10, weight = 'bold')\n",
    "plt.ylabel('Frequency', size = 10, weight = 'bold')\n",
    "plt.show();"
   ]
  },
  {
   "cell_type": "markdown",
   "metadata": {
    "id": "eYIvtIYURx-R"
   },
   "source": [
    "# Generate a heatmap for the feature correlations"
   ]
  },
  {
   "cell_type": "code",
   "execution_count": null,
   "metadata": {
    "colab": {
     "base_uri": "https://localhost:8080/",
     "height": 390
    },
    "executionInfo": {
     "elapsed": 598,
     "status": "ok",
     "timestamp": 1614989802787,
     "user": {
      "displayName": "Sarah Haq",
      "photoUrl": "https://lh3.googleusercontent.com/a-/AOh14Gh7vs3P5_F3LYi7bEV8r1vbltDxEgpoYXmxHgxGBw=s64",
      "userId": "16294508270436203551"
     },
     "user_tz": -60
    },
    "id": "AVSLzu8TRvvP",
    "outputId": "1d137919-57b2-4e7b-c1f2-a70c394eec92"
   },
   "outputs": [],
   "source": [
    "corr_matrix = users_data.corr()\n",
    "\n",
    "corr_matrix"
   ]
  },
  {
   "cell_type": "code",
   "execution_count": null,
   "metadata": {
    "colab": {
     "base_uri": "https://localhost:8080/",
     "height": 555
    },
    "executionInfo": {
     "elapsed": 1051,
     "status": "ok",
     "timestamp": 1614989803667,
     "user": {
      "displayName": "Sarah Haq",
      "photoUrl": "https://lh3.googleusercontent.com/a-/AOh14Gh7vs3P5_F3LYi7bEV8r1vbltDxEgpoYXmxHgxGBw=s64",
      "userId": "16294508270436203551"
     },
     "user_tz": -60
    },
    "id": "hjIq-tgDR1VD",
    "outputId": "d457f2ac-f15f-47e0-89e2-cafe15acced1"
   },
   "outputs": [],
   "source": [
    "fig = plt.figure(figsize = (10, 7.5))\n",
    "\n",
    "sns.heatmap(corr_matrix);"
   ]
  },
  {
   "cell_type": "markdown",
   "metadata": {},
   "source": [
    "# Format the heatmap to make it easier to read"
   ]
  },
  {
   "cell_type": "code",
   "execution_count": null,
   "metadata": {
    "colab": {
     "base_uri": "https://localhost:8080/",
     "height": 545
    },
    "executionInfo": {
     "elapsed": 1970,
     "status": "ok",
     "timestamp": 1614989806001,
     "user": {
      "displayName": "Sarah Haq",
      "photoUrl": "https://lh3.googleusercontent.com/a-/AOh14Gh7vs3P5_F3LYi7bEV8r1vbltDxEgpoYXmxHgxGBw=s64",
      "userId": "16294508270436203551"
     },
     "user_tz": -60
    },
    "id": "qV4nReabZwRt",
    "outputId": "a8860371-58e9-4789-9eea-17092ca106a6"
   },
   "outputs": [],
   "source": [
    "fig = plt.figure(figsize = (11, 8))\n",
    "\n",
    "sns.heatmap(corr_matrix, \n",
    "            cmap = 'seismic', \n",
    "            linewidth = 0.75,\n",
    "            linecolor = 'black',\n",
    "            cbar = True,\n",
    "            vmin = -1, \n",
    "            vmax = 1,\n",
    "            annot = True,\n",
    "            annot_kws = {'size': 8, 'color': 'black'})\n",
    "\n",
    "plt.tick_params(labelsize = 10, rotation = 45)\n",
    "plt.title('Correlation Plot', size = 14);"
   ]
  },
  {
   "cell_type": "markdown",
   "metadata": {
    "id": "tiB1xUyg39k8"
   },
   "source": [
    "# Identify missing values"
   ]
  },
  {
   "cell_type": "code",
   "execution_count": null,
   "metadata": {
    "colab": {
     "base_uri": "https://localhost:8080/"
    },
    "executionInfo": {
     "elapsed": 718,
     "status": "ok",
     "timestamp": 1614989807883,
     "user": {
      "displayName": "Sarah Haq",
      "photoUrl": "https://lh3.googleusercontent.com/a-/AOh14Gh7vs3P5_F3LYi7bEV8r1vbltDxEgpoYXmxHgxGBw=s64",
      "userId": "16294508270436203551"
     },
     "user_tz": -60
    },
    "id": "GZStnahGkkfr",
    "outputId": "df95e0f9-a2d5-4096-b9b8-1b054e35aead"
   },
   "outputs": [],
   "source": [
    "users_data.isnull().sum()"
   ]
  },
  {
   "cell_type": "markdown",
   "metadata": {
    "id": "ZnQZKSH34QO_"
   },
   "source": [
    "# Identify the percentage of missing values for each feature"
   ]
  },
  {
   "cell_type": "code",
   "execution_count": null,
   "metadata": {
    "colab": {
     "base_uri": "https://localhost:8080/"
    },
    "executionInfo": {
     "elapsed": 752,
     "status": "ok",
     "timestamp": 1614989808252,
     "user": {
      "displayName": "Sarah Haq",
      "photoUrl": "https://lh3.googleusercontent.com/a-/AOh14Gh7vs3P5_F3LYi7bEV8r1vbltDxEgpoYXmxHgxGBw=s64",
      "userId": "16294508270436203551"
     },
     "user_tz": -60
    },
    "id": "WW7VeC34yj5R",
    "outputId": "66b95d1c-ae95-413d-a809-8812399e6aa2"
   },
   "outputs": [],
   "source": [
    "percent_missing = users_data.isnull().mean() \n",
    "\n",
    "percent_missing"
   ]
  },
  {
   "cell_type": "markdown",
   "metadata": {},
   "source": [
    "# Generate a missing value report"
   ]
  },
  {
   "cell_type": "code",
   "execution_count": null,
   "metadata": {
    "executionInfo": {
     "elapsed": 424,
     "status": "ok",
     "timestamp": 1614989808253,
     "user": {
      "displayName": "Sarah Haq",
      "photoUrl": "https://lh3.googleusercontent.com/a-/AOh14Gh7vs3P5_F3LYi7bEV8r1vbltDxEgpoYXmxHgxGBw=s64",
      "userId": "16294508270436203551"
     },
     "user_tz": -60
    },
    "id": "I3pzXu7i7asd"
   },
   "outputs": [],
   "source": [
    "def missing_value_pct_df(data):\n",
    "    \"\"\"Create a DataFrame to summarize missing values.\"\"\"\n",
    "  \n",
    "    percent_missing = data.isnull().mean() \n",
    "    missing_value_df = \\\n",
    "    pd.DataFrame(percent_missing).reset_index()\n",
    "    \n",
    "    missing_value_df = \\\n",
    "    missing_value_df.rename(columns = {'index': 'column_name',\n",
    "                                       0: 'percent_missing'})\n",
    "\n",
    "    # Multiply by 100 and round to 4 decimal places.\n",
    "    missing_value_df['percent_missing'] = \\\n",
    "    missing_value_df['percent_missing']. \\\n",
    "    apply(lambda x: round(x * 100, 2)) \n",
    "\n",
    "    missing_value_df = \\\n",
    "    missing_value_df.sort_values(by = ['percent_missing'],\n",
    "                                 ascending = False)\n",
    "\n",
    "    return missing_value_df"
   ]
  },
  {
   "cell_type": "code",
   "execution_count": null,
   "metadata": {
    "colab": {
     "base_uri": "https://localhost:8080/",
     "height": 638
    },
    "executionInfo": {
     "elapsed": 627,
     "status": "ok",
     "timestamp": 1614989808586,
     "user": {
      "displayName": "Sarah Haq",
      "photoUrl": "https://lh3.googleusercontent.com/a-/AOh14Gh7vs3P5_F3LYi7bEV8r1vbltDxEgpoYXmxHgxGBw=s64",
      "userId": "16294508270436203551"
     },
     "user_tz": -60
    },
    "id": "HnAqJi_e0s7g",
    "outputId": "eb99aecc-2f0c-489c-a9de-dab43b1af2da"
   },
   "outputs": [],
   "source": [
    "missing_value_df = missing_value_pct_df(users_data)\n",
    "\n",
    "missing_value_df"
   ]
  },
  {
   "cell_type": "markdown",
   "metadata": {
    "id": "_JGdSDnC46mx"
   },
   "source": [
    "# Remove features with a high percentage of missing values"
   ]
  },
  {
   "cell_type": "code",
   "execution_count": null,
   "metadata": {
    "colab": {
     "base_uri": "https://localhost:8080/"
    },
    "executionInfo": {
     "elapsed": 473,
     "status": "ok",
     "timestamp": 1614989809465,
     "user": {
      "displayName": "Sarah Haq",
      "photoUrl": "https://lh3.googleusercontent.com/a-/AOh14Gh7vs3P5_F3LYi7bEV8r1vbltDxEgpoYXmxHgxGBw=s64",
      "userId": "16294508270436203551"
     },
     "user_tz": -60
    },
    "id": "ncZQuVyk3iFk",
    "outputId": "af4515ad-77de-4bc1-9e08-b3a41078dbe2"
   },
   "outputs": [],
   "source": [
    "# Threshold above which to drop feature.\n",
    "\n",
    "threshold = 80\n",
    "\n",
    "cols_to_drop = \\\n",
    "list(missing_value_df[missing_value_df['percent_missing'] \\\n",
    "                      > threshold]['column_name'])\n",
    "\n",
    "print('Number of features to drop:',\n",
    "      missing_value_df[ \\\n",
    "      missing_value_df['percent_missing'] > threshold].shape[0])\n",
    "\n",
    "print(f'Features with missing values greater than {threshold}%:',\n",
    "      cols_to_drop)"
   ]
  },
  {
   "cell_type": "code",
   "execution_count": null,
   "metadata": {
    "executionInfo": {
     "elapsed": 556,
     "status": "ok",
     "timestamp": 1614989809761,
     "user": {
      "displayName": "Sarah Haq",
      "photoUrl": "https://lh3.googleusercontent.com/a-/AOh14Gh7vs3P5_F3LYi7bEV8r1vbltDxEgpoYXmxHgxGBw=s64",
      "userId": "16294508270436203551"
     },
     "user_tz": -60
    },
    "id": "yImTadSI5zE2"
   },
   "outputs": [],
   "source": [
    "users_data_cleaned = users_data.drop(cols_to_drop, axis = 1)"
   ]
  },
  {
   "cell_type": "code",
   "execution_count": null,
   "metadata": {
    "colab": {
     "base_uri": "https://localhost:8080/"
    },
    "executionInfo": {
     "elapsed": 594,
     "status": "ok",
     "timestamp": 1614989809982,
     "user": {
      "displayName": "Sarah Haq",
      "photoUrl": "https://lh3.googleusercontent.com/a-/AOh14Gh7vs3P5_F3LYi7bEV8r1vbltDxEgpoYXmxHgxGBw=s64",
      "userId": "16294508270436203551"
     },
     "user_tz": -60
    },
    "id": "OvBl8w5u6uWN",
    "outputId": "c5d61c37-c982-4097-e03a-e0b0277a8720"
   },
   "outputs": [],
   "source": [
    "# Confirm feature was dropped.\n",
    "\n",
    "missing_value_df = missing_value_pct_df(users_data_cleaned)\n",
    "\n",
    "missing_columns = \\\n",
    "list(missing_value_df[missing_value_df['percent_missing'] \\\n",
    "                      > 0]['column_name'])\n",
    "\n",
    "print('Number of features with missing values:',\n",
    "      len(missing_columns))"
   ]
  },
  {
   "cell_type": "markdown",
   "metadata": {
    "id": "X1znVhO68QBw"
   },
   "source": [
    "# Identify numerical data with missing values"
   ]
  },
  {
   "cell_type": "code",
   "execution_count": null,
   "metadata": {
    "colab": {
     "base_uri": "https://localhost:8080/"
    },
    "executionInfo": {
     "elapsed": 426,
     "status": "ok",
     "timestamp": 1614989810605,
     "user": {
      "displayName": "Sarah Haq",
      "photoUrl": "https://lh3.googleusercontent.com/a-/AOh14Gh7vs3P5_F3LYi7bEV8r1vbltDxEgpoYXmxHgxGBw=s64",
      "userId": "16294508270436203551"
     },
     "user_tz": -60
    },
    "id": "cia5xlHDAMnd",
    "outputId": "19bab8b2-e337-4302-b1a2-d76b9cda9b36"
   },
   "outputs": [],
   "source": [
    "dtypes = ['int64', 'float64']\n",
    "\n",
    "numerical_columns = \\\n",
    "list(users_data_cleaned.select_dtypes(dtypes).columns)\n",
    "\n",
    "print('Numerical features with missing values:',\n",
    "      list(set(numerical_columns).intersection(missing_columns)))"
   ]
  },
  {
   "cell_type": "markdown",
   "metadata": {
    "id": "gh6qRTZ3mY1d"
   },
   "source": [
    "# Impute missing data values for `total_amount_usd`"
   ]
  },
  {
   "cell_type": "code",
   "execution_count": null,
   "metadata": {
    "executionInfo": {
     "elapsed": 340,
     "status": "ok",
     "timestamp": 1614989810938,
     "user": {
      "displayName": "Sarah Haq",
      "photoUrl": "https://lh3.googleusercontent.com/a-/AOh14Gh7vs3P5_F3LYi7bEV8r1vbltDxEgpoYXmxHgxGBw=s64",
      "userId": "16294508270436203551"
     },
     "user_tz": -60
    },
    "id": "LwEBt5jNn84D"
   },
   "outputs": [],
   "source": [
    "# Find a sample user with missing value\n",
    "\n",
    "sample_user = \\\n",
    "users_data_cleaned[users_data_cleaned['total_amount_usd']. \\\n",
    "                   isnull()].sample(1).user_id\n",
    "\n",
    "sample_user"
   ]
  },
  {
   "cell_type": "code",
   "execution_count": null,
   "metadata": {
    "colab": {
     "base_uri": "https://localhost:8080/"
    },
    "executionInfo": {
     "elapsed": 384,
     "status": "ok",
     "timestamp": 1614989811224,
     "user": {
      "displayName": "Sarah Haq",
      "photoUrl": "https://lh3.googleusercontent.com/a-/AOh14Gh7vs3P5_F3LYi7bEV8r1vbltDxEgpoYXmxHgxGBw=s64",
      "userId": "16294508270436203551"
     },
     "user_tz": -60
    },
    "id": "nBL3cp2nvYNH",
    "outputId": "310c9580-9aa4-481e-972a-682285a59cea"
   },
   "outputs": [],
   "source": [
    "# Print mean of total_amount_usd.\n",
    "\n",
    "print('Mean total_amount_usd:',\n",
    "      round(users_data_cleaned['total_amount_usd'].mean(), 2))\n",
    "\n",
    "# Impute missing values for total_amount_usd with mean.\n",
    "\n",
    "users_data_cleaned['total_amount_usd']. \\\n",
    "fillna(round(users_data_cleaned['total_amount_usd'].mean(), 2), \n",
    "       inplace = True)"
   ]
  },
  {
   "cell_type": "code",
   "execution_count": null,
   "metadata": {
    "colab": {
     "base_uri": "https://localhost:8080/"
    },
    "executionInfo": {
     "elapsed": 491,
     "status": "ok",
     "timestamp": 1614989811538,
     "user": {
      "displayName": "Sarah Haq",
      "photoUrl": "https://lh3.googleusercontent.com/a-/AOh14Gh7vs3P5_F3LYi7bEV8r1vbltDxEgpoYXmxHgxGBw=s64",
      "userId": "16294508270436203551"
     },
     "user_tz": -60
    },
    "id": "mCPrVUykx0SZ",
    "outputId": "f7f5f3b4-9531-48d6-f80f-5985826736b2"
   },
   "outputs": [],
   "source": [
    "users_data_cleaned[users_data_cleaned. \\\n",
    "                   user_id.isin(sample_user)]['total_amount_usd']"
   ]
  },
  {
   "cell_type": "markdown",
   "metadata": {
    "id": "gP6S96I3BFFo"
   },
   "source": [
    "# Replace missing values for `number_transactions` with `0`"
   ]
  },
  {
   "cell_type": "code",
   "execution_count": null,
   "metadata": {
    "executionInfo": {
     "elapsed": 674,
     "status": "ok",
     "timestamp": 1614989812379,
     "user": {
      "displayName": "Sarah Haq",
      "photoUrl": "https://lh3.googleusercontent.com/a-/AOh14Gh7vs3P5_F3LYi7bEV8r1vbltDxEgpoYXmxHgxGBw=s64",
      "userId": "16294508270436203551"
     },
     "user_tz": -60
    },
    "id": "81HDjNKGu7Ua"
   },
   "outputs": [],
   "source": [
    "users_data_cleaned['number_transactions']. \\\n",
    "fillna(0, inplace = True)"
   ]
  },
  {
   "cell_type": "code",
   "execution_count": null,
   "metadata": {
    "colab": {
     "base_uri": "https://localhost:8080/"
    },
    "executionInfo": {
     "elapsed": 674,
     "status": "ok",
     "timestamp": 1614989812654,
     "user": {
      "displayName": "Sarah Haq",
      "photoUrl": "https://lh3.googleusercontent.com/a-/AOh14Gh7vs3P5_F3LYi7bEV8r1vbltDxEgpoYXmxHgxGBw=s64",
      "userId": "16294508270436203551"
     },
     "user_tz": -60
    },
    "id": "iB9V4rKYvZRN",
    "outputId": "e0a9bbec-05cc-4eea-8f00-0859af604317"
   },
   "outputs": [],
   "source": [
    "users_data_cleaned[users_data_cleaned. \\\n",
    "                   user_id.isin(sample_user)]['number_transactions']"
   ]
  },
  {
   "cell_type": "markdown",
   "metadata": {
    "id": "aRYA-OVjBeU7"
   },
   "source": [
    "# Identify categorical data with missing values"
   ]
  },
  {
   "cell_type": "code",
   "execution_count": null,
   "metadata": {
    "colab": {
     "base_uri": "https://localhost:8080/"
    },
    "executionInfo": {
     "elapsed": 828,
     "status": "ok",
     "timestamp": 1614989813266,
     "user": {
      "displayName": "Sarah Haq",
      "photoUrl": "https://lh3.googleusercontent.com/a-/AOh14Gh7vs3P5_F3LYi7bEV8r1vbltDxEgpoYXmxHgxGBw=s64",
      "userId": "16294508270436203551"
     },
     "user_tz": -60
    },
    "id": "2BsoeDNiyaOm",
    "outputId": "63e1adb7-99e5-4dcc-d212-1ac483ef6039"
   },
   "outputs": [],
   "source": [
    "categorical_columns = \\\n",
    "list(users_data_cleaned.select_dtypes(['object']).columns)\n",
    "\n",
    "print('Categorical features with missing values:',\n",
    "      list(set(categorical_columns).intersection(missing_columns)))"
   ]
  },
  {
   "cell_type": "markdown",
   "metadata": {
    "id": "RWR7RIMlB81Y"
   },
   "source": [
    "# Replace categorical missing values with `'Unknown'`"
   ]
  },
  {
   "cell_type": "code",
   "execution_count": null,
   "metadata": {
    "executionInfo": {
     "elapsed": 415,
     "status": "ok",
     "timestamp": 1614989813582,
     "user": {
      "displayName": "Sarah Haq",
      "photoUrl": "https://lh3.googleusercontent.com/a-/AOh14Gh7vs3P5_F3LYi7bEV8r1vbltDxEgpoYXmxHgxGBw=s64",
      "userId": "16294508270436203551"
     },
     "user_tz": -60
    },
    "id": "VUVIV2Cxs5JZ"
   },
   "outputs": [],
   "source": [
    "users_data_cleaned.device.fillna('Unknown', inplace = True)\n",
    "users_data_cleaned.education.fillna('Unknown', inplace = True)\n",
    "users_data_cleaned.contact.fillna('Unknown', inplace = True)\n",
    "users_data_cleaned.job.fillna('Unknown', inplace = True)"
   ]
  },
  {
   "cell_type": "code",
   "execution_count": null,
   "metadata": {
    "colab": {
     "base_uri": "https://localhost:8080/"
    },
    "executionInfo": {
     "elapsed": 456,
     "status": "ok",
     "timestamp": 1614989814112,
     "user": {
      "displayName": "Sarah Haq",
      "photoUrl": "https://lh3.googleusercontent.com/a-/AOh14Gh7vs3P5_F3LYi7bEV8r1vbltDxEgpoYXmxHgxGBw=s64",
      "userId": "16294508270436203551"
     },
     "user_tz": -60
    },
    "id": "g_0vFc2fexy6",
    "outputId": "57f1eccb-295e-4eb4-868e-0acce8a7c618"
   },
   "outputs": [],
   "source": [
    "users_data_cleaned.device.value_counts()"
   ]
  },
  {
   "cell_type": "markdown",
   "metadata": {
    "id": "vBIB40neCKP_"
   },
   "source": [
    "# Check if there are any other missing values"
   ]
  },
  {
   "cell_type": "code",
   "execution_count": null,
   "metadata": {
    "colab": {
     "base_uri": "https://localhost:8080/"
    },
    "executionInfo": {
     "elapsed": 610,
     "status": "ok",
     "timestamp": 1614989815179,
     "user": {
      "displayName": "Sarah Haq",
      "photoUrl": "https://lh3.googleusercontent.com/a-/AOh14Gh7vs3P5_F3LYi7bEV8r1vbltDxEgpoYXmxHgxGBw=s64",
      "userId": "16294508270436203551"
     },
     "user_tz": -60
    },
    "id": "of62JuMwCPUf",
    "outputId": "e16b6bc5-a575-4118-da07-0f2fea589fa3"
   },
   "outputs": [],
   "source": [
    "missing_value_df = missing_value_pct_df(users_data_cleaned)\n",
    "missing_columns = \\\n",
    "list(missing_value_df[missing_value_df['percent_missing'] \\\n",
    "                      > 0]['column_name'])\n",
    "\n",
    "print('Number of features with missing values:', len(missing_columns))\n",
    "print('Features with missing values:', missing_columns)"
   ]
  },
  {
   "cell_type": "markdown",
   "metadata": {
    "id": "Q0TyEbMwDYWs"
   },
   "source": [
    "# Remove all rows where `date_joined` is missing"
   ]
  },
  {
   "cell_type": "code",
   "execution_count": null,
   "metadata": {
    "colab": {
     "base_uri": "https://localhost:8080/"
    },
    "executionInfo": {
     "elapsed": 505,
     "status": "ok",
     "timestamp": 1614989816489,
     "user": {
      "displayName": "Sarah Haq",
      "photoUrl": "https://lh3.googleusercontent.com/a-/AOh14Gh7vs3P5_F3LYi7bEV8r1vbltDxEgpoYXmxHgxGBw=s64",
      "userId": "16294508270436203551"
     },
     "user_tz": -60
    },
    "id": "xhfe-HR1DbRh",
    "outputId": "68092a82-768a-400a-b68d-98f37b666cd7"
   },
   "outputs": [],
   "source": [
    "print('Number of users with corrupted data:',\n",
    "      users_data_cleaned[users_data_cleaned['date_joined']. \\\n",
    "                         isnull()].shape[0])"
   ]
  },
  {
   "cell_type": "code",
   "execution_count": null,
   "metadata": {
    "executionInfo": {
     "elapsed": 374,
     "status": "ok",
     "timestamp": 1614989816766,
     "user": {
      "displayName": "Sarah Haq",
      "photoUrl": "https://lh3.googleusercontent.com/a-/AOh14Gh7vs3P5_F3LYi7bEV8r1vbltDxEgpoYXmxHgxGBw=s64",
      "userId": "16294508270436203551"
     },
     "user_tz": -60
    },
    "id": "wGoMHAwBEQNx"
   },
   "outputs": [],
   "source": [
    "# Remove corrupted data.\n",
    "\n",
    "users_data_cleaned = \\\n",
    "users_data_cleaned[~users_data_cleaned['date_joined'].isnull()]"
   ]
  },
  {
   "cell_type": "code",
   "execution_count": null,
   "metadata": {
    "colab": {
     "base_uri": "https://localhost:8080/"
    },
    "executionInfo": {
     "elapsed": 393,
     "status": "ok",
     "timestamp": 1614989817307,
     "user": {
      "displayName": "Sarah Haq",
      "photoUrl": "https://lh3.googleusercontent.com/a-/AOh14Gh7vs3P5_F3LYi7bEV8r1vbltDxEgpoYXmxHgxGBw=s64",
      "userId": "16294508270436203551"
     },
     "user_tz": -60
    },
    "id": "UzDh99F2EYOg",
    "outputId": "b8d2a9e2-2c12-418d-d4c5-b97f892b8cec"
   },
   "outputs": [],
   "source": [
    "# Check to see if any corrupted rows remain.\n",
    "\n",
    "print('Number of users with corrupted data:',\n",
    "      users_data_cleaned[users_data_cleaned['date_joined']. \\\n",
    "                         isnull()].shape[0])"
   ]
  },
  {
   "cell_type": "markdown",
   "metadata": {
    "id": "cO7IlwaHEgyz"
   },
   "source": [
    "# Perform one last check for missing values"
   ]
  },
  {
   "cell_type": "code",
   "execution_count": null,
   "metadata": {
    "colab": {
     "base_uri": "https://localhost:8080/"
    },
    "executionInfo": {
     "elapsed": 432,
     "status": "ok",
     "timestamp": 1614989818292,
     "user": {
      "displayName": "Sarah Haq",
      "photoUrl": "https://lh3.googleusercontent.com/a-/AOh14Gh7vs3P5_F3LYi7bEV8r1vbltDxEgpoYXmxHgxGBw=s64",
      "userId": "16294508270436203551"
     },
     "user_tz": -60
    },
    "id": "FBq4xRqxEa6b",
    "outputId": "c1161221-420b-4c5e-edb6-13ce78cfdabc"
   },
   "outputs": [],
   "source": [
    "missing_value_df = missing_value_pct_df(users_data_cleaned)\n",
    "missing_columns = \\\n",
    "list(missing_value_df[missing_value_df['percent_missing'] \\\n",
    "                      > 0]['column_name'])\n",
    "\n",
    "print('Number of features with missing values:',\n",
    "      len(missing_columns))"
   ]
  },
  {
   "cell_type": "markdown",
   "metadata": {},
   "source": [
    "# View the distribution of `age`"
   ]
  },
  {
   "cell_type": "code",
   "execution_count": null,
   "metadata": {
    "colab": {
     "base_uri": "https://localhost:8080/",
     "height": 281
    },
    "executionInfo": {
     "elapsed": 839,
     "status": "ok",
     "timestamp": 1614989819583,
     "user": {
      "displayName": "Sarah Haq",
      "photoUrl": "https://lh3.googleusercontent.com/a-/AOh14Gh7vs3P5_F3LYi7bEV8r1vbltDxEgpoYXmxHgxGBw=s64",
      "userId": "16294508270436203551"
     },
     "user_tz": -60
    },
    "id": "4ReU-EsdsCx_",
    "outputId": "1af554e9-58ee-49b4-a795-6737b363778c"
   },
   "outputs": [],
   "source": [
    "users_data_cleaned['age'].hist()\n",
    "plt.title('Original Distribution of Age');"
   ]
  },
  {
   "cell_type": "markdown",
   "metadata": {
    "id": "xb1HNom0eeYb"
   },
   "source": [
    "# Apply a log transformation to `age`"
   ]
  },
  {
   "cell_type": "code",
   "execution_count": null,
   "metadata": {
    "colab": {
     "base_uri": "https://localhost:8080/",
     "height": 281
    },
    "executionInfo": {
     "elapsed": 763,
     "status": "ok",
     "timestamp": 1614989821927,
     "user": {
      "displayName": "Sarah Haq",
      "photoUrl": "https://lh3.googleusercontent.com/a-/AOh14Gh7vs3P5_F3LYi7bEV8r1vbltDxEgpoYXmxHgxGBw=s64",
      "userId": "16294508270436203551"
     },
     "user_tz": -60
    },
    "id": "xWDNfgkCeQmk",
    "outputId": "05402659-2fbb-4042-e00b-a6754845be27"
   },
   "outputs": [],
   "source": [
    "np.log(users_data_cleaned['age']).hist()\n",
    "plt.title('Log Transformation of Age');"
   ]
  },
  {
   "cell_type": "markdown",
   "metadata": {
    "id": "5vx4LvUvtCrl"
   },
   "source": [
    "# Apply a Box–Cox transformation to `age`"
   ]
  },
  {
   "cell_type": "code",
   "execution_count": null,
   "metadata": {
    "colab": {
     "base_uri": "https://localhost:8080/",
     "height": 281
    },
    "executionInfo": {
     "elapsed": 691,
     "status": "ok",
     "timestamp": 1614989823368,
     "user": {
      "displayName": "Sarah Haq",
      "photoUrl": "https://lh3.googleusercontent.com/a-/AOh14Gh7vs3P5_F3LYi7bEV8r1vbltDxEgpoYXmxHgxGBw=s64",
      "userId": "16294508270436203551"
     },
     "user_tz": -60
    },
    "id": "SblgzO0itvE9",
    "outputId": "06e5f609-3211-4129-b9b1-5e5d7ccf70fc"
   },
   "outputs": [],
   "source": [
    "pd.Series(stats.boxcox(users_data_cleaned['age'])[0]).hist()\n",
    "plt.title('Box–Cox Transformation of Age');"
   ]
  },
  {
   "cell_type": "markdown",
   "metadata": {},
   "source": [
    "# Identify categorical features"
   ]
  },
  {
   "cell_type": "code",
   "execution_count": null,
   "metadata": {
    "colab": {
     "base_uri": "https://localhost:8080/"
    },
    "executionInfo": {
     "elapsed": 562,
     "status": "ok",
     "timestamp": 1614991544182,
     "user": {
      "displayName": "Sarah Haq",
      "photoUrl": "https://lh3.googleusercontent.com/a-/AOh14Gh7vs3P5_F3LYi7bEV8r1vbltDxEgpoYXmxHgxGBw=s64",
      "userId": "16294508270436203551"
     },
     "user_tz": -60
    },
    "id": "KpSjZGY3kzWj",
    "outputId": "334a23af-9603-4c46-db05-0f13e81dd211"
   },
   "outputs": [],
   "source": [
    "categorical_columns = \\\n",
    "list(users_data_cleaned.select_dtypes(['object']).columns)\n",
    "\n",
    "print('The number of categorical features:',\n",
    "      len(categorical_columns))\n",
    "print('The names of categorical features:',\n",
    "      categorical_columns)"
   ]
  },
  {
   "cell_type": "markdown",
   "metadata": {
    "id": "iEp20xxa8Rzw"
   },
   "source": [
    "# One-hot encode `job`"
   ]
  },
  {
   "cell_type": "code",
   "execution_count": null,
   "metadata": {
    "colab": {
     "base_uri": "https://localhost:8080/"
    },
    "executionInfo": {
     "elapsed": 2959,
     "status": "ok",
     "timestamp": 1614991547561,
     "user": {
      "displayName": "Sarah Haq",
      "photoUrl": "https://lh3.googleusercontent.com/a-/AOh14Gh7vs3P5_F3LYi7bEV8r1vbltDxEgpoYXmxHgxGBw=s64",
      "userId": "16294508270436203551"
     },
     "user_tz": -60
    },
    "id": "79C8J-6lxCG0",
    "outputId": "ec86421f-94a7-4aa2-e185-a5b4c0db7ab8"
   },
   "outputs": [],
   "source": [
    "users_data_cleaned.job.value_counts(dropna = True)"
   ]
  },
  {
   "cell_type": "code",
   "execution_count": null,
   "metadata": {
    "executionInfo": {
     "elapsed": 2806,
     "status": "ok",
     "timestamp": 1614991547562,
     "user": {
      "displayName": "Sarah Haq",
      "photoUrl": "https://lh3.googleusercontent.com/a-/AOh14Gh7vs3P5_F3LYi7bEV8r1vbltDxEgpoYXmxHgxGBw=s64",
      "userId": "16294508270436203551"
     },
     "user_tz": -60
    },
    "id": "x7Wl4Ghw8nQg"
   },
   "outputs": [],
   "source": [
    "# Create object for one-hot encoding.\n",
    "\n",
    "encoder = ce.OneHotEncoder(cols = 'job',\n",
    "                           return_df = True,\n",
    "                           use_cat_names = True)"
   ]
  },
  {
   "cell_type": "code",
   "execution_count": null,
   "metadata": {
    "colab": {
     "base_uri": "https://localhost:8080/",
     "height": 496
    },
    "executionInfo": {
     "elapsed": 3036,
     "status": "ok",
     "timestamp": 1614991547935,
     "user": {
      "displayName": "Sarah Haq",
      "photoUrl": "https://lh3.googleusercontent.com/a-/AOh14Gh7vs3P5_F3LYi7bEV8r1vbltDxEgpoYXmxHgxGBw=s64",
      "userId": "16294508270436203551"
     },
     "user_tz": -60
    },
    "id": "x5kkteUk8-yw",
    "outputId": "63593de4-a0d6-41e2-e697-12161badc5f3"
   },
   "outputs": [],
   "source": [
    "# Fit and transform data.\n",
    "\n",
    "users_data_encoded = encoder.fit_transform(users_data_cleaned)\n",
    "\n",
    "# Preview the data.\n",
    "\n",
    "users_data_encoded.head()"
   ]
  },
  {
   "cell_type": "code",
   "execution_count": null,
   "metadata": {
    "colab": {
     "base_uri": "https://localhost:8080/"
    },
    "executionInfo": {
     "elapsed": 2859,
     "status": "ok",
     "timestamp": 1614991547935,
     "user": {
      "displayName": "Sarah Haq",
      "photoUrl": "https://lh3.googleusercontent.com/a-/AOh14Gh7vs3P5_F3LYi7bEV8r1vbltDxEgpoYXmxHgxGBw=s64",
      "userId": "16294508270436203551"
     },
     "user_tz": -60
    },
    "id": "QYxvca6N9NkR",
    "outputId": "1c822df5-c5da-4122-bcc6-d5de3c5cd8bb",
    "scrolled": true
   },
   "outputs": [],
   "source": [
    "list(users_data_encoded)"
   ]
  },
  {
   "cell_type": "code",
   "execution_count": null,
   "metadata": {
    "colab": {
     "base_uri": "https://localhost:8080/"
    },
    "executionInfo": {
     "elapsed": 2387,
     "status": "ok",
     "timestamp": 1614991547936,
     "user": {
      "displayName": "Sarah Haq",
      "photoUrl": "https://lh3.googleusercontent.com/a-/AOh14Gh7vs3P5_F3LYi7bEV8r1vbltDxEgpoYXmxHgxGBw=s64",
      "userId": "16294508270436203551"
     },
     "user_tz": -60
    },
    "id": "09YMC3IG9gGS",
    "outputId": "28f49e91-ef6d-49a5-f46d-8ecefef96b77"
   },
   "outputs": [],
   "source": [
    "print('Shape of data before encoding:',\n",
    "      users_data_cleaned.shape)\n",
    "print('Shape of data after encoding:',\n",
    "      users_data_encoded.shape)"
   ]
  },
  {
   "cell_type": "markdown",
   "metadata": {
    "id": "_OIsHn6b4IgX"
   },
   "source": [
    "# Dummy encode `marital`"
   ]
  },
  {
   "cell_type": "code",
   "execution_count": null,
   "metadata": {
    "colab": {
     "base_uri": "https://localhost:8080/",
     "height": 419
    },
    "executionInfo": {
     "elapsed": 1486,
     "status": "ok",
     "timestamp": 1614991547936,
     "user": {
      "displayName": "Sarah Haq",
      "photoUrl": "https://lh3.googleusercontent.com/a-/AOh14Gh7vs3P5_F3LYi7bEV8r1vbltDxEgpoYXmxHgxGBw=s64",
      "userId": "16294508270436203551"
     },
     "user_tz": -60
    },
    "id": "eFGMhuhFoNkk",
    "outputId": "0ae530ac-a9b3-45bd-9f03-108a9cc2127f",
    "scrolled": false
   },
   "outputs": [],
   "source": [
    "marital_encoded = \\\n",
    "pd.get_dummies(data = users_data_encoded['marital'],\n",
    "               drop_first = True)\n",
    "\n",
    "marital_encoded "
   ]
  },
  {
   "cell_type": "code",
   "execution_count": null,
   "metadata": {
    "colab": {
     "base_uri": "https://localhost:8080/",
     "height": 496
    },
    "executionInfo": {
     "elapsed": 995,
     "status": "ok",
     "timestamp": 1614991547937,
     "user": {
      "displayName": "Sarah Haq",
      "photoUrl": "https://lh3.googleusercontent.com/a-/AOh14Gh7vs3P5_F3LYi7bEV8r1vbltDxEgpoYXmxHgxGBw=s64",
      "userId": "16294508270436203551"
     },
     "user_tz": -60
    },
    "id": "j_ykm8IB-89G",
    "outputId": "801192f2-f10b-49ac-c1a5-acf00bba13d8"
   },
   "outputs": [],
   "source": [
    "# Concatenate the new encoded columns.\n",
    "\n",
    "users_data_encoded = \\\n",
    "pd.concat([users_data_encoded, marital_encoded], axis = 1)\n",
    "\n",
    "# Drop the original variable.\n",
    "\n",
    "users_data_encoded.drop(['marital'], axis = 1, inplace = True)\n",
    "\n",
    "# Preview the data\n",
    "\n",
    "users_data_encoded.head()"
   ]
  },
  {
   "cell_type": "code",
   "execution_count": null,
   "metadata": {
    "colab": {
     "base_uri": "https://localhost:8080/"
    },
    "executionInfo": {
     "elapsed": 476,
     "status": "ok",
     "timestamp": 1614991548156,
     "user": {
      "displayName": "Sarah Haq",
      "photoUrl": "https://lh3.googleusercontent.com/a-/AOh14Gh7vs3P5_F3LYi7bEV8r1vbltDxEgpoYXmxHgxGBw=s64",
      "userId": "16294508270436203551"
     },
     "user_tz": -60
    },
    "id": "aY0fTgDDAEWQ",
    "outputId": "ac387e42-e38c-4e95-cfdc-b79aa727ccfd"
   },
   "outputs": [],
   "source": [
    "print('Shape of data after encoding:',\n",
    "      users_data_encoded.shape)\n",
    "\n",
    "list(users_data_encoded)"
   ]
  },
  {
   "cell_type": "markdown",
   "metadata": {
    "id": "ieUIUY24_MmQ"
   },
   "source": [
    "# One-hot encode the remaining categorical variables"
   ]
  },
  {
   "cell_type": "code",
   "execution_count": null,
   "metadata": {
    "executionInfo": {
     "elapsed": 583,
     "status": "ok",
     "timestamp": 1614991550227,
     "user": {
      "displayName": "Sarah Haq",
      "photoUrl": "https://lh3.googleusercontent.com/a-/AOh14Gh7vs3P5_F3LYi7bEV8r1vbltDxEgpoYXmxHgxGBw=s64",
      "userId": "16294508270436203551"
     },
     "user_tz": -60
    },
    "id": "rAjoQ2NJAsWT"
   },
   "outputs": [],
   "source": [
    "cols = ['education', 'contact', 'device']\n",
    "\n",
    "encoder = ce.OneHotEncoder(cols = cols,\n",
    "                           return_df = True,\n",
    "                           use_cat_names = True)"
   ]
  },
  {
   "cell_type": "code",
   "execution_count": null,
   "metadata": {
    "colab": {
     "base_uri": "https://localhost:8080/",
     "height": 496
    },
    "executionInfo": {
     "elapsed": 665,
     "status": "ok",
     "timestamp": 1614991550757,
     "user": {
      "displayName": "Sarah Haq",
      "photoUrl": "https://lh3.googleusercontent.com/a-/AOh14Gh7vs3P5_F3LYi7bEV8r1vbltDxEgpoYXmxHgxGBw=s64",
      "userId": "16294508270436203551"
     },
     "user_tz": -60
    },
    "id": "sq9duxcAAxJj",
    "outputId": "60c2d0f2-80de-48d9-b969-cafee02dc9f6"
   },
   "outputs": [],
   "source": [
    "# Fit and transform data.\n",
    "\n",
    "users_data_encoded = encoder.fit_transform(users_data_encoded)\n",
    "\n",
    "# Preview the data.\n",
    "\n",
    "users_data_encoded.head()"
   ]
  },
  {
   "cell_type": "code",
   "execution_count": null,
   "metadata": {
    "colab": {
     "base_uri": "https://localhost:8080/"
    },
    "executionInfo": {
     "elapsed": 374,
     "status": "ok",
     "timestamp": 1614991551727,
     "user": {
      "displayName": "Sarah Haq",
      "photoUrl": "https://lh3.googleusercontent.com/a-/AOh14Gh7vs3P5_F3LYi7bEV8r1vbltDxEgpoYXmxHgxGBw=s64",
      "userId": "16294508270436203551"
     },
     "user_tz": -60
    },
    "id": "NAZFKLk-DHTv",
    "outputId": "1bcae42d-0eed-4b2d-e1e2-54a7126226ae"
   },
   "outputs": [],
   "source": [
    "print('Shape of data after encoding:',\n",
    "      users_data_encoded.shape)\n",
    "\n",
    "list(users_data_encoded)"
   ]
  },
  {
   "cell_type": "markdown",
   "metadata": {
    "id": "VUOz4SGBfAHV"
   },
   "source": [
    "# Discretize `age` into bins"
   ]
  },
  {
   "cell_type": "code",
   "execution_count": null,
   "metadata": {
    "colab": {
     "base_uri": "https://localhost:8080/"
    },
    "executionInfo": {
     "elapsed": 505,
     "status": "ok",
     "timestamp": 1614991555371,
     "user": {
      "displayName": "Sarah Haq",
      "photoUrl": "https://lh3.googleusercontent.com/a-/AOh14Gh7vs3P5_F3LYi7bEV8r1vbltDxEgpoYXmxHgxGBw=s64",
      "userId": "16294508270436203551"
     },
     "user_tz": -60
    },
    "id": "kLZ0vlUwgxtB",
    "outputId": "5105943d-d359-44a1-8d30-21384f8399ee"
   },
   "outputs": [],
   "source": [
    "users_data_encoded.age.describe()"
   ]
  },
  {
   "cell_type": "code",
   "execution_count": null,
   "metadata": {
    "executionInfo": {
     "elapsed": 629,
     "status": "ok",
     "timestamp": 1614991704317,
     "user": {
      "displayName": "Sarah Haq",
      "photoUrl": "https://lh3.googleusercontent.com/a-/AOh14Gh7vs3P5_F3LYi7bEV8r1vbltDxEgpoYXmxHgxGBw=s64",
      "userId": "16294508270436203551"
     },
     "user_tz": -60
    },
    "id": "bRAfTlIMk1Wa"
   },
   "outputs": [],
   "source": [
    "# Define age bins and labels.\n",
    "\n",
    "bins = [18, 25, 35, 45, 55, 65, 75, 110]\n",
    "labels = ['18–24', '25–34', '35–44',\n",
    "          '45–54', '55–64', '65–74', '75+']\n",
    "\n",
    "# Perform binning using bin list.\n",
    "\n",
    "users_data_encoded['age_group'] = \\\n",
    "pd.cut(users_data_encoded['age'], bins = bins,\n",
    "       labels = labels, right = False)\n",
    "\n",
    "# Map bins to integer values.\n",
    "users_data_encoded['age_group_encoded'] = \\\n",
    "users_data_encoded['age_group'].cat.codes"
   ]
  },
  {
   "cell_type": "code",
   "execution_count": null,
   "metadata": {
    "colab": {
     "base_uri": "https://localhost:8080/",
     "height": 359
    },
    "executionInfo": {
     "elapsed": 511,
     "status": "ok",
     "timestamp": 1614991713433,
     "user": {
      "displayName": "Sarah Haq",
      "photoUrl": "https://lh3.googleusercontent.com/a-/AOh14Gh7vs3P5_F3LYi7bEV8r1vbltDxEgpoYXmxHgxGBw=s64",
      "userId": "16294508270436203551"
     },
     "user_tz": -60
    },
    "id": "6Xk0BHw8jemq",
    "outputId": "69a220e4-38af-4f74-d939-5ebc2dbb1926"
   },
   "outputs": [],
   "source": [
    "# Verify correct binning.\n",
    "\n",
    "age_vars = ['age_group_encoded', 'age_group', 'age']\n",
    "\n",
    "users_data_encoded[age_vars].sample(10)"
   ]
  },
  {
   "cell_type": "markdown",
   "metadata": {},
   "source": [
    "# Plot the new distribution of `age`"
   ]
  },
  {
   "cell_type": "code",
   "execution_count": null,
   "metadata": {
    "colab": {
     "base_uri": "https://localhost:8080/"
    },
    "executionInfo": {
     "elapsed": 512,
     "status": "ok",
     "timestamp": 1614991714857,
     "user": {
      "displayName": "Sarah Haq",
      "photoUrl": "https://lh3.googleusercontent.com/a-/AOh14Gh7vs3P5_F3LYi7bEV8r1vbltDxEgpoYXmxHgxGBw=s64",
      "userId": "16294508270436203551"
     },
     "user_tz": -60
    },
    "id": "acwKTZ_5g6n6",
    "outputId": "61facd42-dc05-40ff-f5a9-7e4e9d41821b"
   },
   "outputs": [],
   "source": [
    "user_age_dist = users_data_encoded.age_group.value_counts()\n",
    "\n",
    "user_age_dist"
   ]
  },
  {
   "cell_type": "code",
   "execution_count": null,
   "metadata": {
    "colab": {
     "base_uri": "https://localhost:8080/",
     "height": 307
    },
    "executionInfo": {
     "elapsed": 627,
     "status": "ok",
     "timestamp": 1614991737337,
     "user": {
      "displayName": "Sarah Haq",
      "photoUrl": "https://lh3.googleusercontent.com/a-/AOh14Gh7vs3P5_F3LYi7bEV8r1vbltDxEgpoYXmxHgxGBw=s64",
      "userId": "16294508270436203551"
     },
     "user_tz": -60
    },
    "id": "C9EWjbFEhD7V",
    "outputId": "ebf220a0-7edd-4c1d-9cc2-c44ff0782c08"
   },
   "outputs": [],
   "source": [
    "user_age_dist.plot(kind = 'bar', edgecolor = 'black')\n",
    "plt.title('Distribution of Age Category');"
   ]
  },
  {
   "cell_type": "code",
   "execution_count": null,
   "metadata": {
    "colab": {
     "base_uri": "https://localhost:8080/",
     "height": 262
    },
    "executionInfo": {
     "elapsed": 530,
     "status": "ok",
     "timestamp": 1614991891265,
     "user": {
      "displayName": "Sarah Haq",
      "photoUrl": "https://lh3.googleusercontent.com/a-/AOh14Gh7vs3P5_F3LYi7bEV8r1vbltDxEgpoYXmxHgxGBw=s64",
      "userId": "16294508270436203551"
     },
     "user_tz": -60
    },
    "id": "zw1EAGj6AlXG",
    "outputId": "10a23eb7-9bc6-4f84-e3e5-3741b3b51806"
   },
   "outputs": [],
   "source": [
    "# Check against encoded values.\n",
    "\n",
    "users_data_encoded.age_group_encoded. \\\n",
    "value_counts().plot(kind = 'bar');"
   ]
  },
  {
   "cell_type": "markdown",
   "metadata": {},
   "source": [
    "# Drop the `age` and `age_group` variables"
   ]
  },
  {
   "cell_type": "code",
   "execution_count": null,
   "metadata": {
    "executionInfo": {
     "elapsed": 523,
     "status": "ok",
     "timestamp": 1614991896545,
     "user": {
      "displayName": "Sarah Haq",
      "photoUrl": "https://lh3.googleusercontent.com/a-/AOh14Gh7vs3P5_F3LYi7bEV8r1vbltDxEgpoYXmxHgxGBw=s64",
      "userId": "16294508270436203551"
     },
     "user_tz": -60
    },
    "id": "H6Qql-UCngUl"
   },
   "outputs": [],
   "source": [
    "users_data_encoded.drop(['age', 'age_group'],\n",
    "                        axis = 1, inplace = True)\n",
    "\n",
    "list(users_data_encoded)"
   ]
  },
  {
   "cell_type": "markdown",
   "metadata": {
    "id": "PVKafgK9Dthz"
   },
   "source": [
    "# Create a `month_joined` variable from `date_joined`"
   ]
  },
  {
   "cell_type": "code",
   "execution_count": null,
   "metadata": {
    "executionInfo": {
     "elapsed": 570,
     "status": "ok",
     "timestamp": 1614991898854,
     "user": {
      "displayName": "Sarah Haq",
      "photoUrl": "https://lh3.googleusercontent.com/a-/AOh14Gh7vs3P5_F3LYi7bEV8r1vbltDxEgpoYXmxHgxGBw=s64",
      "userId": "16294508270436203551"
     },
     "user_tz": -60
    },
    "id": "HdLp8sWvim9x"
   },
   "outputs": [],
   "source": [
    "users_data_encoded['month_joined'] = \\\n",
    "users_data_encoded.date_joined.dt.month"
   ]
  },
  {
   "cell_type": "code",
   "execution_count": null,
   "metadata": {
    "colab": {
     "base_uri": "https://localhost:8080/",
     "height": 281
    },
    "executionInfo": {
     "elapsed": 599,
     "status": "ok",
     "timestamp": 1614991899929,
     "user": {
      "displayName": "Sarah Haq",
      "photoUrl": "https://lh3.googleusercontent.com/a-/AOh14Gh7vs3P5_F3LYi7bEV8r1vbltDxEgpoYXmxHgxGBw=s64",
      "userId": "16294508270436203551"
     },
     "user_tz": -60
    },
    "id": "gRQNeBX5jhLb",
    "outputId": "45aeb8b5-5141-450e-8a86-6d263f85bfa5"
   },
   "outputs": [],
   "source": [
    "# View the distribution of data.\n",
    "\n",
    "users_data_encoded['month_joined'].hist()\n",
    "plt.title('Distribution of Months the Users Joined');"
   ]
  },
  {
   "cell_type": "code",
   "execution_count": null,
   "metadata": {
    "executionInfo": {
     "elapsed": 534,
     "status": "ok",
     "timestamp": 1614991902133,
     "user": {
      "displayName": "Sarah Haq",
      "photoUrl": "https://lh3.googleusercontent.com/a-/AOh14Gh7vs3P5_F3LYi7bEV8r1vbltDxEgpoYXmxHgxGBw=s64",
      "userId": "16294508270436203551"
     },
     "user_tz": -60
    },
    "id": "lzwzjT_skPjp"
   },
   "outputs": [],
   "source": [
    "users_data_encoded.drop(['date_joined'],\n",
    "                        axis = 1, inplace = True)\n",
    "\n",
    "list(users_data_encoded)"
   ]
  },
  {
   "cell_type": "markdown",
   "metadata": {
    "id": "ROkl2rP2Usyt"
   },
   "source": [
    "# Remove features with low variance"
   ]
  },
  {
   "cell_type": "code",
   "execution_count": null,
   "metadata": {
    "colab": {
     "base_uri": "https://localhost:8080/"
    },
    "executionInfo": {
     "elapsed": 502,
     "status": "ok",
     "timestamp": 1614991904814,
     "user": {
      "displayName": "Sarah Haq",
      "photoUrl": "https://lh3.googleusercontent.com/a-/AOh14Gh7vs3P5_F3LYi7bEV8r1vbltDxEgpoYXmxHgxGBw=s64",
      "userId": "16294508270436203551"
     },
     "user_tz": -60
    },
    "id": "-44R0c4WdBGS",
    "outputId": "44d21e5a-356a-414a-e8fa-860e1ce65686"
   },
   "outputs": [],
   "source": [
    "users_data_encoded.std()"
   ]
  },
  {
   "cell_type": "code",
   "execution_count": null,
   "metadata": {
    "colab": {
     "base_uri": "https://localhost:8080/"
    },
    "executionInfo": {
     "elapsed": 502,
     "status": "ok",
     "timestamp": 1614991905891,
     "user": {
      "displayName": "Sarah Haq",
      "photoUrl": "https://lh3.googleusercontent.com/a-/AOh14Gh7vs3P5_F3LYi7bEV8r1vbltDxEgpoYXmxHgxGBw=s64",
      "userId": "16294508270436203551"
     },
     "user_tz": -60
    },
    "id": "KFB2W8g1h2xg",
    "outputId": "dc9cdeee-655b-42f8-8155-6e1df3fe4b51"
   },
   "outputs": [],
   "source": [
    "# Define standard deviation threshold.\n",
    "\n",
    "threshold = 0.1\n",
    "\n",
    "# Identify features below threshold.\n",
    "\n",
    "cols_to_drop = \\\n",
    "list(users_data_encoded.std()[users_data_encoded.std() \\\n",
    "                              < threshold].index.values)\n",
    "\n",
    "print('Features with low standard deviation:',\n",
    "      cols_to_drop)"
   ]
  },
  {
   "cell_type": "code",
   "execution_count": null,
   "metadata": {
    "colab": {
     "base_uri": "https://localhost:8080/",
     "height": 332
    },
    "executionInfo": {
     "elapsed": 495,
     "status": "ok",
     "timestamp": 1614991917200,
     "user": {
      "displayName": "Sarah Haq",
      "photoUrl": "https://lh3.googleusercontent.com/a-/AOh14Gh7vs3P5_F3LYi7bEV8r1vbltDxEgpoYXmxHgxGBw=s64",
      "userId": "16294508270436203551"
     },
     "user_tz": -60
    },
    "id": "oG3uOURxgy_L",
    "outputId": "07148f12-b915-40a9-c631-c9940a3c4ecb"
   },
   "outputs": [],
   "source": [
    "# Drop features below threshold.\n",
    "\n",
    "users_data_interim = users_data_encoded.drop(cols_to_drop,\n",
    "                                             axis = 1)\n",
    "\n",
    "list(users_data_interim)"
   ]
  },
  {
   "cell_type": "markdown",
   "metadata": {
    "id": "2SJ8f324wW8q"
   },
   "source": [
    "# Drop highly correlated features"
   ]
  },
  {
   "cell_type": "code",
   "execution_count": null,
   "metadata": {
    "colab": {
     "base_uri": "https://localhost:8080/"
    },
    "executionInfo": {
     "elapsed": 752,
     "status": "ok",
     "timestamp": 1614991924437,
     "user": {
      "displayName": "Sarah Haq",
      "photoUrl": "https://lh3.googleusercontent.com/a-/AOh14Gh7vs3P5_F3LYi7bEV8r1vbltDxEgpoYXmxHgxGBw=s64",
      "userId": "16294508270436203551"
     },
     "user_tz": -60
    },
    "id": "cKvyyVBVy3le",
    "outputId": "3bd07fde-d69d-4065-e5bd-d8bfb14d5ed1"
   },
   "outputs": [],
   "source": [
    "# Define correlation threshold.\n",
    "\n",
    "threshold = 0.75\n",
    "\n",
    "corr_matrix = users_data_encoded.corr().abs()\n",
    "high_corr_var = np.where(corr_matrix >= threshold)\n",
    "high_corr_var = [(corr_matrix.index[x],\n",
    "                  corr_matrix.columns[y],\n",
    "                  round(corr_matrix.iloc[x, y], 2))\n",
    "                  for x, y in zip(*high_corr_var)\n",
    "                  if x != y and x < y]\n",
    "\n",
    "\n",
    "high_corr_var"
   ]
  },
  {
   "cell_type": "code",
   "execution_count": null,
   "metadata": {
    "colab": {
     "base_uri": "https://localhost:8080/",
     "height": 142
    },
    "executionInfo": {
     "elapsed": 508,
     "status": "ok",
     "timestamp": 1614991926530,
     "user": {
      "displayName": "Sarah Haq",
      "photoUrl": "https://lh3.googleusercontent.com/a-/AOh14Gh7vs3P5_F3LYi7bEV8r1vbltDxEgpoYXmxHgxGBw=s64",
      "userId": "16294508270436203551"
     },
     "user_tz": -60
    },
    "id": "3ea_naxK2qs0",
    "outputId": "e32a2888-b44a-416f-fa83-0810a1c876b1"
   },
   "outputs": [],
   "source": [
    "# Tidy up the output.\n",
    "\n",
    "record_collinear = pd.DataFrame(high_corr_var). \\\n",
    "rename(columns = {0: 'drop_feature',\n",
    "                  1: 'corr_feature',\n",
    "                  2: 'corr_values'})\n",
    "\n",
    "record_collinear = record_collinear. \\\n",
    "sort_values(by = 'corr_values', ascending = False)\n",
    "\n",
    "record_collinear = record_collinear.reset_index(drop = True)\n",
    "\n",
    "record_collinear "
   ]
  },
  {
   "cell_type": "code",
   "execution_count": null,
   "metadata": {
    "colab": {
     "base_uri": "https://localhost:8080/"
    },
    "executionInfo": {
     "elapsed": 529,
     "status": "ok",
     "timestamp": 1614991928960,
     "user": {
      "displayName": "Sarah Haq",
      "photoUrl": "https://lh3.googleusercontent.com/a-/AOh14Gh7vs3P5_F3LYi7bEV8r1vbltDxEgpoYXmxHgxGBw=s64",
      "userId": "16294508270436203551"
     },
     "user_tz": -60
    },
    "id": "lHsbgE-n31KC",
    "outputId": "7cd151c4-22e3-4518-8f03-70fde6911180"
   },
   "outputs": [],
   "source": [
    "cols_to_drop = list(record_collinear['drop_feature'])\n",
    "print(cols_to_drop)"
   ]
  },
  {
   "cell_type": "code",
   "execution_count": null,
   "metadata": {
    "executionInfo": {
     "elapsed": 497,
     "status": "ok",
     "timestamp": 1614991931625,
     "user": {
      "displayName": "Sarah Haq",
      "photoUrl": "https://lh3.googleusercontent.com/a-/AOh14Gh7vs3P5_F3LYi7bEV8r1vbltDxEgpoYXmxHgxGBw=s64",
      "userId": "16294508270436203551"
     },
     "user_tz": -60
    },
    "id": "8vRaDJpF4Gkv"
   },
   "outputs": [],
   "source": [
    "users_data_final = users_data_interim.drop(cols_to_drop,\n",
    "                                           axis = 1)\n",
    "\n",
    "list(users_data_final)"
   ]
  },
  {
   "cell_type": "markdown",
   "metadata": {},
   "source": [
    "# Filter by demographics data"
   ]
  },
  {
   "cell_type": "code",
   "execution_count": null,
   "metadata": {},
   "outputs": [],
   "source": [
    "users_data_demographics = \\\n",
    "users_data_final.filter(regex = 'education|job|age|single')\n",
    "\n",
    "users_data_demographics.head(n = 3)"
   ]
  },
  {
   "cell_type": "markdown",
   "metadata": {},
   "source": [
    "# Standardize the demographics data"
   ]
  },
  {
   "cell_type": "code",
   "execution_count": null,
   "metadata": {},
   "outputs": [],
   "source": [
    "users_data_demographics.describe()"
   ]
  },
  {
   "cell_type": "code",
   "execution_count": null,
   "metadata": {},
   "outputs": [],
   "source": [
    "scaler = StandardScaler()\n",
    "        \n",
    "scaler.fit(users_data_demographics)\n",
    "users_data_scaled = scaler.transform(users_data_demographics)\n",
    "\n",
    "print('New standard deviation: ', users_data_scaled.std())\n",
    "print('New mean:               ', round(users_data_scaled.mean()))"
   ]
  },
  {
   "cell_type": "markdown",
   "metadata": {},
   "source": [
    "# Perform PCA to reduce the dimensionality of the demographics dataset"
   ]
  },
  {
   "cell_type": "code",
   "execution_count": null,
   "metadata": {},
   "outputs": [],
   "source": [
    "pca = PCA(n_components = 2, random_state = 1)\n",
    "\n",
    "pca.fit(users_data_scaled)\n",
    "\n",
    "reduced = pca.transform(users_data_scaled)"
   ]
  },
  {
   "cell_type": "code",
   "execution_count": null,
   "metadata": {},
   "outputs": [],
   "source": [
    "reduced_df = pd.DataFrame(reduced, columns = ['PCA1', 'PCA2'])\n",
    "\n",
    "reduced_df"
   ]
  },
  {
   "cell_type": "markdown",
   "metadata": {
    "id": "jVdBTm5gwYAC"
   },
   "source": [
    "# Load the final dataset"
   ]
  },
  {
   "cell_type": "code",
   "execution_count": null,
   "metadata": {
    "colab": {
     "base_uri": "https://localhost:8080/"
    },
    "executionInfo": {
     "elapsed": 506,
     "status": "ok",
     "timestamp": 1614991936591,
     "user": {
      "displayName": "Sarah Haq",
      "photoUrl": "https://lh3.googleusercontent.com/a-/AOh14Gh7vs3P5_F3LYi7bEV8r1vbltDxEgpoYXmxHgxGBw=s64",
      "userId": "16294508270436203551"
     },
     "user_tz": -60
    },
    "id": "c85xetn4iW96",
    "outputId": "b1cb9de9-f322-45f1-c0eb-c5e1aeec9033"
   },
   "outputs": [],
   "source": [
    "users_data_final.info()"
   ]
  },
  {
   "cell_type": "code",
   "execution_count": null,
   "metadata": {
    "executionInfo": {
     "elapsed": 738,
     "status": "ok",
     "timestamp": 1614991944678,
     "user": {
      "displayName": "Sarah Haq",
      "photoUrl": "https://lh3.googleusercontent.com/a-/AOh14Gh7vs3P5_F3LYi7bEV8r1vbltDxEgpoYXmxHgxGBw=s64",
      "userId": "16294508270436203551"
     },
     "user_tz": -60
    },
    "id": "oQk_6ScJzPZ0"
   },
   "outputs": [],
   "source": [
    "users_data_final.to_pickle('users_data_final.pickle')"
   ]
  },
  {
   "cell_type": "markdown",
   "metadata": {},
   "source": [
    "# Load the demographics dataset with PCA applied"
   ]
  },
  {
   "cell_type": "code",
   "execution_count": null,
   "metadata": {},
   "outputs": [],
   "source": [
    "reduced_df.to_pickle('users_data_demo_pca.pickle')"
   ]
  }
 ],
 "metadata": {
  "colab": {
   "authorship_tag": "ABX9TyOTun3PqjuvYwA4uyOB/0jS",
   "collapsed_sections": [],
   "name": "02-EDA.ipynb",
   "provenance": [],
   "toc_visible": true
  },
  "kernelspec": {
   "display_name": "Python 3",
   "language": "python",
   "name": "python3"
  },
  "language_info": {
   "codemirror_mode": {
    "name": "ipython",
    "version": 3
   },
   "file_extension": ".py",
   "mimetype": "text/x-python",
   "name": "python",
   "nbconvert_exporter": "python",
   "pygments_lexer": "ipython3",
   "version": "3.7.6"
  }
 },
 "nbformat": 4,
 "nbformat_minor": 1
}
